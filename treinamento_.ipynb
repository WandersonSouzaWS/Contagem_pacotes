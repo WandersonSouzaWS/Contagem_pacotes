{
 "cells": [
  {
   "cell_type": "markdown",
   "metadata": {},
   "source": [
    "ELT - 578 ANÁLISE DE IMAGENS E VISÃO COMPUTACIONAL\n",
    "WANDERSON LUIZ MOURA DE SOUZA - MA:115204\n",
    "_______________________________________________________\n",
    "Projeto final: Identificação de pacotes em esteira em tempo real\n",
    "Uso de um modelo de classificação, realizando a deteção em uma parte da imagem\n",
    "\n",
    "\n",
    "**Versão 2.2 24/03/2024"
   ]
  },
  {
   "cell_type": "code",
   "execution_count": 1,
   "metadata": {},
   "outputs": [],
   "source": [
    "#Importando Bibliotecas\n",
    "import matplotlib.pyplot as plt\n",
    "import numpy as np\n",
    "import os\n",
    "import PIL\n",
    "import tensorflow as tf\n",
    "from tensorflow import keras\n",
    "from tensorflow.keras import layers\n",
    "from tensorflow.keras.models import Sequential\n",
    "import pathlib\n"
   ]
  },
  {
   "cell_type": "code",
   "execution_count": 2,
   "metadata": {},
   "outputs": [],
   "source": [
    "#Parâmetros define parâmetros\n",
    "batch_size = 32\n",
    "img_height = 260\n",
    "img_width = 200"
   ]
  },
  {
   "cell_type": "code",
   "execution_count": 10,
   "metadata": {},
   "outputs": [
    {
     "name": "stdout",
     "output_type": "stream",
     "text": [
      "C:\\\n"
     ]
    }
   ],
   "source": [
    "cd .."
   ]
  },
  {
   "cell_type": "code",
   "execution_count": 13,
   "metadata": {},
   "outputs": [],
   "source": [
    "#Configurando dados na unidade C: (Lembra de apagar essa pasta depois)\n",
    "os.chdir(r\"C:\\Users\\wanlu\\img_classificacao\")"
   ]
  },
  {
   "cell_type": "code",
   "execution_count": 14,
   "metadata": {},
   "outputs": [
    {
     "name": "stdout",
     "output_type": "stream",
     "text": [
      "Diretorio das imagens:  C:\\Users\\wanlu\\img_classificacao \n",
      "Quantidade de imagens:  919 \n",
      "Quantidade de Classes:  5\n"
     ]
    }
   ],
   "source": [
    "#Dados para treinamento\n",
    "data_dir = pathlib.Path(r'C:\\Users\\wanlu\\img_classificacao')\n",
    "\n",
    "#Indicando diretório e quantidade de fotos\n",
    "image_count = len(list(data_dir.glob('*\\*.jpg')))\n",
    "pastas = os.listdir(data_dir)\n",
    "\n",
    "print(\"Diretorio das imagens: \", data_dir,\n",
    "      \"\\nQuantidade de imagens: \", image_count,\n",
    "      \"\\nQuantidade de Classes: \", len(pastas))"
   ]
  },
  {
   "cell_type": "code",
   "execution_count": 15,
   "metadata": {},
   "outputs": [
    {
     "name": "stdout",
     "output_type": "stream",
     "text": [
      "Found 919 files belonging to 5 classes.\n",
      "Using 736 files for training.\n"
     ]
    }
   ],
   "source": [
    "#Separando imagens para treino e teste\n",
    "train_ds = tf.keras.utils.image_dataset_from_directory(\n",
    "  data_dir,\n",
    "  validation_split=0.2,\n",
    "  subset=\"training\",\n",
    "  seed=123,\n",
    "  image_size=(img_height, img_width),\n",
    "  batch_size=batch_size)"
   ]
  },
  {
   "cell_type": "code",
   "execution_count": 16,
   "metadata": {},
   "outputs": [
    {
     "name": "stdout",
     "output_type": "stream",
     "text": [
      "Found 919 files belonging to 5 classes.\n",
      "Using 183 files for validation.\n"
     ]
    }
   ],
   "source": [
    "#Separando imagens para treino e teste\n",
    "val_ds = tf.keras.utils.image_dataset_from_directory(\n",
    "  data_dir,\n",
    "  validation_split=0.2,\n",
    "  subset=\"validation\",\n",
    "  seed=123,\n",
    "  image_size=(img_height, img_width),\n",
    "  batch_size=batch_size)"
   ]
  },
  {
   "cell_type": "code",
   "execution_count": 17,
   "metadata": {},
   "outputs": [
    {
     "name": "stdout",
     "output_type": "stream",
     "text": [
      "['pacote_3c', 'pacote_cinza', 'pacote_extraforte', 'pacote_fort', 'zero_pacote']\n"
     ]
    }
   ],
   "source": [
    "#Indicar todas as classes presentes\n",
    "class_names = train_ds.class_names\n",
    "\n",
    "#Salvando um txt com os nomes das classes\n",
    "with open(r'G:\\Outros computadores\\PC\\Documents\\Wanderson\\Profissional\\CURSOS\\POS INTELIGENCIA COMPUTACIONAL UFV\\ELT 578 - ANÁLISE DE IMAGENS E VISÃO COMPUTACIONAL\\Ultima_tentativa\\info\\classes.txt', 'w') as arquivo:\n",
    "    for classe in class_names:\n",
    "        arquivo.write(classe + '\\n')\n",
    "\n",
    "print(class_names)\n"
   ]
  },
  {
   "cell_type": "code",
   "execution_count": 18,
   "metadata": {},
   "outputs": [
    {
     "name": "stdout",
     "output_type": "stream",
     "text": [
      "(32, 260, 200, 3)\n",
      "(32,)\n"
     ]
    }
   ],
   "source": [
    "#Indicando forma dos dados no primeiro lote\n",
    "for image_batch, labels_batch in train_ds:\n",
    "  print(image_batch.shape)\n",
    "  print(labels_batch.shape)\n",
    "  break"
   ]
  },
  {
   "cell_type": "code",
   "execution_count": 19,
   "metadata": {},
   "outputs": [],
   "source": [
    "#Otimização\n",
    "AUTOTUNE = tf.data.AUTOTUNE\n",
    "train_ds = train_ds.cache().shuffle(1000).prefetch(buffer_size=AUTOTUNE)\n",
    "val_ds = val_ds.cache().prefetch(buffer_size=AUTOTUNE)"
   ]
  },
  {
   "cell_type": "code",
   "execution_count": 20,
   "metadata": {},
   "outputs": [],
   "source": [
    "#Variável de normalização\n",
    "normalization_layer = layers.Rescaling(1./255)"
   ]
  },
  {
   "cell_type": "code",
   "execution_count": 21,
   "metadata": {},
   "outputs": [
    {
     "name": "stdout",
     "output_type": "stream",
     "text": [
      "0.00031105118 0.99679023\n"
     ]
    }
   ],
   "source": [
    "#Normalização dos dados\n",
    "normalized_ds = train_ds.map(lambda x, y: (normalization_layer(x), y))\n",
    "image_batch, labels_batch = next(iter(normalized_ds))\n",
    "first_image = image_batch[0]\n",
    "# Notice the pixel values are now in `[0,1]`.\n",
    "print(np.min(first_image), np.max(first_image))"
   ]
  },
  {
   "cell_type": "code",
   "execution_count": 22,
   "metadata": {},
   "outputs": [],
   "source": [
    "#Aumento de dados de treinamento e validação\n",
    "data_augmentation = keras.Sequential(\n",
    "  [\n",
    "    layers.RandomFlip(\"horizontal\",\n",
    "                      input_shape=(img_height,\n",
    "                                  img_width,\n",
    "                                  3)),\n",
    "    layers.RandomRotation(0.1),\n",
    "    layers.RandomZoom(0.1),\n",
    "  ]\n",
    ")"
   ]
  },
  {
   "cell_type": "code",
   "execution_count": 23,
   "metadata": {},
   "outputs": [],
   "source": [
    "#Parametrizando o modelo\n",
    "num_classes = len(class_names)\n",
    "\n",
    "model = Sequential([\n",
    "  data_augmentation,\n",
    "  layers.Rescaling(1./255),\n",
    "  layers.Conv2D(16, 3, padding='same', activation='relu'),\n",
    "  layers.MaxPooling2D(),\n",
    "  layers.Conv2D(32, 3, padding='same', activation='relu'),\n",
    "  layers.MaxPooling2D(),\n",
    "  layers.Conv2D(64, 3, padding='same', activation='relu'),\n",
    "  layers.MaxPooling2D(),\n",
    "  layers.Dropout(0.2),\n",
    "  layers.Flatten(),\n",
    "  layers.Dense(128, activation='relu'),\n",
    "  layers.Dense(num_classes)\n",
    "])"
   ]
  },
  {
   "cell_type": "code",
   "execution_count": 24,
   "metadata": {},
   "outputs": [],
   "source": [
    "#Copilando modelo\n",
    "model.compile(optimizer='adam',\n",
    "              loss=tf.keras.losses.SparseCategoricalCrossentropy(from_logits=True),\n",
    "              metrics=['accuracy'])"
   ]
  },
  {
   "cell_type": "code",
   "execution_count": 25,
   "metadata": {},
   "outputs": [
    {
     "name": "stdout",
     "output_type": "stream",
     "text": [
      "Model: \"sequential_1\"\n",
      "_________________________________________________________________\n",
      " Layer (type)                Output Shape              Param #   \n",
      "=================================================================\n",
      " sequential (Sequential)     (None, 260, 200, 3)       0         \n",
      "                                                                 \n",
      " rescaling_1 (Rescaling)     (None, 260, 200, 3)       0         \n",
      "                                                                 \n",
      " conv2d (Conv2D)             (None, 260, 200, 16)      448       \n",
      "                                                                 \n",
      " max_pooling2d (MaxPooling2  (None, 130, 100, 16)      0         \n",
      " D)                                                              \n",
      "                                                                 \n",
      " conv2d_1 (Conv2D)           (None, 130, 100, 32)      4640      \n",
      "                                                                 \n",
      " max_pooling2d_1 (MaxPoolin  (None, 65, 50, 32)        0         \n",
      " g2D)                                                            \n",
      "                                                                 \n",
      " conv2d_2 (Conv2D)           (None, 65, 50, 64)        18496     \n",
      "                                                                 \n",
      " max_pooling2d_2 (MaxPoolin  (None, 32, 25, 64)        0         \n",
      " g2D)                                                            \n",
      "                                                                 \n",
      " dropout (Dropout)           (None, 32, 25, 64)        0         \n",
      "                                                                 \n",
      " flatten (Flatten)           (None, 51200)             0         \n",
      "                                                                 \n",
      " dense (Dense)               (None, 128)               6553728   \n",
      "                                                                 \n",
      " dense_1 (Dense)             (None, 5)                 645       \n",
      "                                                                 \n",
      "=================================================================\n",
      "Total params: 6577957 (25.09 MB)\n",
      "Trainable params: 6577957 (25.09 MB)\n",
      "Non-trainable params: 0 (0.00 Byte)\n",
      "_________________________________________________________________\n"
     ]
    }
   ],
   "source": [
    "#Apresentando Sumário do modelo\n",
    "model.summary()"
   ]
  },
  {
   "cell_type": "code",
   "execution_count": 26,
   "metadata": {},
   "outputs": [
    {
     "name": "stdout",
     "output_type": "stream",
     "text": [
      "Epoch 1/10\n"
     ]
    },
    {
     "name": "stdout",
     "output_type": "stream",
     "text": [
      "23/23 [==============================] - 11s 417ms/step - loss: 0.9946 - accuracy: 0.6481 - val_loss: 0.4233 - val_accuracy: 0.8634\n",
      "Epoch 2/10\n",
      "23/23 [==============================] - 9s 389ms/step - loss: 0.3539 - accuracy: 0.8451 - val_loss: 0.1739 - val_accuracy: 0.9672\n",
      "Epoch 3/10\n",
      "23/23 [==============================] - 9s 385ms/step - loss: 0.1595 - accuracy: 0.9429 - val_loss: 0.0685 - val_accuracy: 0.9945\n",
      "Epoch 4/10\n",
      "23/23 [==============================] - 9s 380ms/step - loss: 0.0743 - accuracy: 0.9796 - val_loss: 0.0866 - val_accuracy: 0.9454\n",
      "Epoch 5/10\n",
      "23/23 [==============================] - 9s 390ms/step - loss: 0.2374 - accuracy: 0.9334 - val_loss: 0.1247 - val_accuracy: 0.9508\n",
      "Epoch 6/10\n",
      "23/23 [==============================] - 9s 383ms/step - loss: 0.0953 - accuracy: 0.9769 - val_loss: 0.0405 - val_accuracy: 0.9945\n",
      "Epoch 7/10\n",
      "23/23 [==============================] - 9s 377ms/step - loss: 0.0281 - accuracy: 0.9959 - val_loss: 0.0067 - val_accuracy: 1.0000\n",
      "Epoch 8/10\n",
      "23/23 [==============================] - 9s 384ms/step - loss: 0.0071 - accuracy: 1.0000 - val_loss: 0.0121 - val_accuracy: 0.9945\n",
      "Epoch 9/10\n",
      "23/23 [==============================] - 9s 380ms/step - loss: 0.0034 - accuracy: 1.0000 - val_loss: 0.0180 - val_accuracy: 0.9945\n",
      "Epoch 10/10\n",
      "23/23 [==============================] - 9s 382ms/step - loss: 0.0051 - accuracy: 0.9986 - val_loss: 0.0017 - val_accuracy: 1.0000\n"
     ]
    }
   ],
   "source": [
    "#Iniciando o treinamento do modelo\n",
    "epochs=10\n",
    "history = model.fit(\n",
    "  train_ds,\n",
    "  validation_data=val_ds,\n",
    "  epochs=epochs\n",
    ")"
   ]
  },
  {
   "cell_type": "code",
   "execution_count": 27,
   "metadata": {},
   "outputs": [
    {
     "data": {
      "image/png": "[encoded data removed]",
      "text/plain": [
       "<Figure size 800x800 with 2 Axes>"
      ]
     },
     "metadata": {},
     "output_type": "display_data"
    }
   ],
   "source": [
    "#Avaliando os dados de treino\n",
    "acc = history.history['accuracy']\n",
    "val_acc = history.history['val_accuracy']\n",
    "\n",
    "loss = history.history['loss']\n",
    "val_loss = history.history['val_loss']\n",
    "\n",
    "epochs_range = range(epochs)\n",
    "\n",
    "plt.figure(figsize=(8, 8))\n",
    "plt.subplot(1, 2, 1)\n",
    "plt.plot(epochs_range, acc, label='Training Accuracy')\n",
    "plt.plot(epochs_range, val_acc, label='Validation Accuracy')\n",
    "plt.legend(loc='lower right')\n",
    "plt.title('Training and Validation Accuracy')\n",
    "\n",
    "plt.subplot(1, 2, 2)\n",
    "plt.plot(epochs_range, loss, label='Training Loss')\n",
    "plt.plot(epochs_range, val_loss, label='Validation Loss')\n",
    "plt.legend(loc='upper right')\n",
    "plt.title('Training and Validation Loss')\n",
    "plt.show()"
   ]
  },
  {
   "cell_type": "code",
   "execution_count": 28,
   "metadata": {},
   "outputs": [
    {
     "name": "stdout",
     "output_type": "stream",
     "text": [
      "Modelo Salvo!\n"
     ]
    }
   ],
   "source": [
    "# Salvar modelo\n",
    "model.save(r'G:\\Outros computadores\\PC\\Documents\\Wanderson\\Profissional\\CURSOS\\POS INTELIGENCIA COMPUTACIONAL UFV\\ELT 578 - ANÁLISE DE IMAGENS E VISÃO COMPUTACIONAL\\Ultima_tentativa\\model\\modelo_cafe_3.keras')\n",
    "print('Modelo Salvo!')"
   ]
  },
  {
   "cell_type": "markdown",
   "metadata": {},
   "source": [
    "*******************************************************************\n",
    "Realizando uma classificação!"
   ]
  },
  {
   "cell_type": "code",
   "execution_count": null,
   "metadata": {},
   "outputs": [],
   "source": [
    "#Carrega modelo\n",
    "from tensorflow.keras.models import load_model\n",
    "model = load_model()\n",
    "\n",
    "#Passa pesos\n",
    "img_height = 260\n",
    "img_width = 200\n",
    "\n",
    "#Carrega classes\n",
    "class_names = []\n",
    "#Abre TXT e passa todos as linhas para a variável\n",
    "with open('G:\\Outros computadores\\PC\\Documents\\Wanderson\\Profissional\\CURSOS\\POS INTELIGENCIA COMPUTACIONAL UFV\\ELT 578 - ANÁLISE DE IMAGENS E VISÃO COMPUTACIONAL\\Ultima_tentativa\\info\\classes.txt', 'r') as arquivo:\n",
    "    for linha in arquivo:\n",
    "        classe = linha.strip()\n",
    "        class_names.append(classe)\n",
    "        \n",
    "print(\"Modelo Carregado! \\nClasses Carregadas!\")"
   ]
  },
  {
   "cell_type": "code",
   "execution_count": 31,
   "metadata": {},
   "outputs": [
    {
     "name": "stdout",
     "output_type": "stream",
     "text": [
      "1/1 [==============================] - 0s 39ms/step\n",
      "Imagem identificada! \n",
      "Classe:  zero_pacote \n",
      "Acuracia:  99.96 %.\n"
     ]
    }
   ],
   "source": [
    "#Realiza predição\n",
    "# Validando modelo\n",
    "dir_img = r\"G:\\Outros computadores\\PC\\Documents\\Wanderson\\Profissional\\CURSOS\\POS INTELIGENCIA COMPUTACIONAL UFV\\ELT 578 - ANÁLISE DE IMAGENS E VISÃO COMPUTACIONAL\\Ultima_tentativa\\valid\\T (11).jpg\"\n",
    "\n",
    "img = tf.keras.utils.load_img(\n",
    "    dir_img, target_size=(img_height, img_width))\n",
    "img_array = tf.keras.utils.img_to_array(img)\n",
    "img_array = tf.expand_dims(img_array, 0) # Create a batch\n",
    "\n",
    "predictions = model.predict(img_array)\n",
    "score = tf.nn.softmax(predictions[0])\n",
    "\n",
    "if np.max(score) < 0.5:\n",
    "    print(\"Imagem não identificada.\")\n",
    "else:\n",
    "    print(\n",
    "        \"Imagem identificada! \\nClasse:  {} \\nAcuracia:  {:.2f} %.\"\n",
    "        .format(class_names[np.argmax(score)], 100 * np.max(score))\n",
    "    )"
   ]
  },
  {
   "cell_type": "code",
   "execution_count": null,
   "metadata": {},
   "outputs": [],
   "source": []
  },
  {
   "cell_type": "code",
   "execution_count": null,
   "metadata": {},
   "outputs": [],
   "source": []
  }
 ],
 "metadata": {
  "kernelspec": {
   "display_name": "Python 3",
   "language": "python",
   "name": "python3"
  },
  "language_info": {
   "codemirror_mode": {
    "name": "ipython",
    "version": 3
   },
   "file_extension": ".py",
   "mimetype": "text/x-python",
   "name": "python",
   "nbconvert_exporter": "python",
   "pygments_lexer": "ipython3",
   "version": "3.8.7"
  }
 },
 "nbformat": 4,
 "nbformat_minor": 2
}
